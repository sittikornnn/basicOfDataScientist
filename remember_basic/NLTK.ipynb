{
 "cells": [
  {
   "cell_type": "markdown",
   "id": "7bcb229f",
   "metadata": {},
   "source": [
    "# NLP nltk for english and pythai for thai"
   ]
  },
  {
   "cell_type": "code",
   "execution_count": 1,
   "id": "6179e315",
   "metadata": {},
   "outputs": [],
   "source": [
    "import nltk"
   ]
  },
  {
   "cell_type": "code",
   "execution_count": 2,
   "id": "13f6cb36",
   "metadata": {},
   "outputs": [],
   "source": [
    "sentence = \"UC San Diego is a great place to study cognitive science.\""
   ]
  },
  {
   "cell_type": "code",
   "execution_count": 3,
   "id": "05203557",
   "metadata": {},
   "outputs": [
    {
     "name": "stderr",
     "output_type": "stream",
     "text": [
      "[nltk_data] Downloading package punkt to\n",
      "[nltk_data]     C:\\Users\\HP\\AppData\\Roaming\\nltk_data...\n",
      "[nltk_data]   Unzipping tokenizers\\punkt.zip.\n",
      "[nltk_data] Downloading package stopwords to\n",
      "[nltk_data]     C:\\Users\\HP\\AppData\\Roaming\\nltk_data...\n",
      "[nltk_data]   Unzipping corpora\\stopwords.zip.\n",
      "[nltk_data] Downloading package averaged_perceptron_tagger to\n",
      "[nltk_data]     C:\\Users\\HP\\AppData\\Roaming\\nltk_data...\n",
      "[nltk_data]   Unzipping taggers\\averaged_perceptron_tagger.zip.\n",
      "[nltk_data] Downloading package maxent_ne_chunker to\n",
      "[nltk_data]     C:\\Users\\HP\\AppData\\Roaming\\nltk_data...\n",
      "[nltk_data]   Unzipping chunkers\\maxent_ne_chunker.zip.\n",
      "[nltk_data] Downloading package words to\n",
      "[nltk_data]     C:\\Users\\HP\\AppData\\Roaming\\nltk_data...\n",
      "[nltk_data]   Unzipping corpora\\words.zip.\n",
      "[nltk_data] Downloading package treebank to\n",
      "[nltk_data]     C:\\Users\\HP\\AppData\\Roaming\\nltk_data...\n",
      "[nltk_data]   Unzipping corpora\\treebank.zip.\n"
     ]
    },
    {
     "data": {
      "text/plain": [
       "True"
      ]
     },
     "execution_count": 3,
     "metadata": {},
     "output_type": "execute_result"
    }
   ],
   "source": [
    "# Download some useful data files from NLTK\n",
    "nltk.download('punkt')\n",
    "nltk.download('stopwords')\n",
    "nltk.download('averaged_perceptron_tagger')\n",
    "nltk.download('maxent_ne_chunker')\n",
    "nltk.download('words')\n",
    "nltk.download('treebank')"
   ]
  },
  {
   "cell_type": "code",
   "execution_count": 4,
   "id": "9af234b8",
   "metadata": {},
   "outputs": [],
   "source": [
    "tokens = nltk.word_tokenize(sentence)"
   ]
  },
  {
   "cell_type": "code",
   "execution_count": 5,
   "id": "bb4e9200",
   "metadata": {},
   "outputs": [
    {
     "name": "stdout",
     "output_type": "stream",
     "text": [
      "['UC', 'San', 'Diego', 'is', 'a', 'great', 'place', 'to', 'study', 'cognitive', 'science', '.']\n"
     ]
    }
   ],
   "source": [
    "print(tokens)"
   ]
  },
  {
   "cell_type": "code",
   "execution_count": 6,
   "id": "bea96ff9",
   "metadata": {},
   "outputs": [],
   "source": [
    "tags = nltk.pos_tag(tokens)"
   ]
  },
  {
   "cell_type": "code",
   "execution_count": 8,
   "id": "806552a7",
   "metadata": {},
   "outputs": [
    {
     "name": "stdout",
     "output_type": "stream",
     "text": [
      "[('UC', 'NNP'), ('San', 'NNP'), ('Diego', 'NNP'), ('is', 'VBZ'), ('a', 'DT'), ('great', 'JJ'), ('place', 'NN'), ('to', 'TO'), ('study', 'VB'), ('cognitive', 'JJ'), ('science', 'NN'), ('.', '.')]\n"
     ]
    }
   ],
   "source": [
    "print(tags)"
   ]
  },
  {
   "cell_type": "code",
   "execution_count": 11,
   "id": "a122c15f",
   "metadata": {},
   "outputs": [],
   "source": [
    "entities = nltk.chunk.ne_chunk(tags)"
   ]
  },
  {
   "cell_type": "code",
   "execution_count": 12,
   "id": "7f38c884",
   "metadata": {},
   "outputs": [
    {
     "name": "stdout",
     "output_type": "stream",
     "text": [
      "(S\n",
      "  UC/NNP\n",
      "  (PERSON San/NNP Diego/NNP)\n",
      "  is/VBZ\n",
      "  a/DT\n",
      "  great/JJ\n",
      "  place/NN\n",
      "  to/TO\n",
      "  study/VB\n",
      "  cognitive/JJ\n",
      "  science/NN\n",
      "  ./.)\n"
     ]
    }
   ],
   "source": [
    "print(entities)"
   ]
  },
  {
   "cell_type": "code",
   "execution_count": 13,
   "id": "4882673d",
   "metadata": {},
   "outputs": [
    {
     "name": "stdout",
     "output_type": "stream",
     "text": [
      "['i', 'me', 'my', 'myself', 'we', 'our', 'ours', 'ourselves', 'you', \"you're\", \"you've\", \"you'll\", \"you'd\", 'your', 'yours', 'yourself', 'yourselves', 'he', 'him', 'his', 'himself', 'she', \"she's\", 'her', 'hers', 'herself', 'it', \"it's\", 'its', 'itself', 'they', 'them', 'their', 'theirs', 'themselves', 'what', 'which', 'who', 'whom', 'this', 'that', \"that'll\", 'these', 'those', 'am', 'is', 'are', 'was', 'were', 'be', 'been', 'being', 'have', 'has', 'had', 'having', 'do', 'does', 'did', 'doing', 'a', 'an', 'the', 'and', 'but', 'if', 'or', 'because', 'as', 'until', 'while', 'of', 'at', 'by', 'for', 'with', 'about', 'against', 'between', 'into', 'through', 'during', 'before', 'after', 'above', 'below', 'to', 'from', 'up', 'down', 'in', 'out', 'on', 'off', 'over', 'under', 'again', 'further', 'then', 'once', 'here', 'there', 'when', 'where', 'why', 'how', 'all', 'any', 'both', 'each', 'few', 'more', 'most', 'other', 'some', 'such', 'no', 'nor', 'not', 'only', 'own', 'same', 'so', 'than', 'too', 'very', 's', 't', 'can', 'will', 'just', 'don', \"don't\", 'should', \"should've\", 'now', 'd', 'll', 'm', 'o', 're', 've', 'y', 'ain', 'aren', \"aren't\", 'couldn', \"couldn't\", 'didn', \"didn't\", 'doesn', \"doesn't\", 'hadn', \"hadn't\", 'hasn', \"hasn't\", 'haven', \"haven't\", 'isn', \"isn't\", 'ma', 'mightn', \"mightn't\", 'mustn', \"mustn't\", 'needn', \"needn't\", 'shan', \"shan't\", 'shouldn', \"shouldn't\", 'wasn', \"wasn't\", 'weren', \"weren't\", 'won', \"won't\", 'wouldn', \"wouldn't\"]\n"
     ]
    }
   ],
   "source": [
    "print(nltk.corpus.stopwords.words('english'))"
   ]
  },
  {
   "cell_type": "code",
   "execution_count": 14,
   "id": "095c4825",
   "metadata": {},
   "outputs": [],
   "source": [
    "# Imports\n",
    "%matplotlib inline\n",
    "\n",
    "# Standard Python has some useful string tools\n",
    "import string\n",
    "\n",
    "# Collections is a part of standard Python, with some useful data objects\n",
    "from collections import Counter\n",
    "\n",
    "import numpy as np\n",
    "import matplotlib.pyplot as plt\n",
    "\n",
    "# Scikit-learn has some useful NLP tools, such as a TFIDF vectorizer\n",
    "from sklearn.feature_extraction.text import TfidfVectorizer"
   ]
  },
  {
   "cell_type": "code",
   "execution_count": 16,
   "id": "6259b10a",
   "metadata": {},
   "outputs": [],
   "source": [
    "# Load the data\n",
    "with open('book10k.txt', 'r') as file:\n",
    "    sents = file.readlines()"
   ]
  },
  {
   "cell_type": "code",
   "execution_count": 17,
   "id": "1db0fc2d",
   "metadata": {},
   "outputs": [
    {
     "name": "stdout",
     "output_type": "stream",
     "text": [
      "the half-ling book one in the fall of igneeria series kaylee soderburg copyright 2013 kaylee soderburg all rights reserved .\n",
      "\n",
      "alejo was sure the fact that he was nervously repeating mass along with five wrinkly , age-encrusted spanish women meant that stalin was rethinking whether he was going to pay the price .\n",
      "\n"
     ]
    }
   ],
   "source": [
    "# Check out the data - print out the first and last sentences, as examples\n",
    "print(sents[0])\n",
    "print(sents[-1])"
   ]
  },
  {
   "cell_type": "code",
   "execution_count": 18,
   "id": "693a84da",
   "metadata": {},
   "outputs": [],
   "source": [
    "# Preprocessing: strip all extra whitespace from the sentences\n",
    "sents = [sent.strip() for sent in sents]"
   ]
  },
  {
   "cell_type": "code",
   "execution_count": 19,
   "id": "b1e33479",
   "metadata": {},
   "outputs": [],
   "source": [
    "# Tokenize all the sentences into words\n",
    "#  This collects all the word tokens together into one big list\n",
    "tokens = []\n",
    "for x in sents:\n",
    "    tokens.extend(nltk.word_tokenize(x))"
   ]
  },
  {
   "cell_type": "code",
   "execution_count": 20,
   "id": "65a882fd",
   "metadata": {},
   "outputs": [
    {
     "name": "stdout",
     "output_type": "stream",
     "text": [
      "Number of words in the data: \t 140094\n",
      "Number of unique words: \t 8221\n"
     ]
    }
   ],
   "source": [
    "# Check out how many words are in the data\n",
    "print('Number of words in the data: \\t', len(tokens))\n",
    "print('Number of unique words: \\t', len(set(tokens)))"
   ]
  },
  {
   "cell_type": "code",
   "execution_count": 21,
   "id": "fe461a76",
   "metadata": {},
   "outputs": [],
   "source": [
    "# Use the 'counter' object to count how many times each word appears\n",
    "counts = Counter(tokens)"
   ]
  },
  {
   "cell_type": "code",
   "execution_count": 22,
   "id": "e16c8d0a",
   "metadata": {},
   "outputs": [
    {
     "data": {
      "text/plain": [
       "[('.', 8601),\n",
       " (',', 6675),\n",
       " ('the', 6062),\n",
       " ('and', 3382),\n",
       " ('to', 3328),\n",
       " ('``', 2852),\n",
       " ('i', 2747),\n",
       " ('a', 2480),\n",
       " ('of', 2122),\n",
       " ('was', 1752),\n",
       " ('he', 1678),\n",
       " ('in', 1616),\n",
       " ('you', 1483),\n",
       " ('her', 1353),\n",
       " ('his', 1349),\n",
       " ('?', 1153),\n",
       " ('she', 1153),\n",
       " ('that', 1134),\n",
       " ('it', 1050),\n",
       " (\"'s\", 1023),\n",
       " ('had', 898),\n",
       " ('with', 894),\n",
       " ('alejo', 890),\n",
       " ('wara', 875),\n",
       " ('at', 818)]"
      ]
     },
     "execution_count": 22,
     "metadata": {},
     "output_type": "execute_result"
    }
   ],
   "source": [
    "# Check out the counts object, printing out some of the most common tokens\n",
    "counts.most_common(25)"
   ]
  },
  {
   "cell_type": "code",
   "execution_count": 23,
   "id": "f3bb9dee",
   "metadata": {},
   "outputs": [
    {
     "name": "stdout",
     "output_type": "stream",
     "text": [
      "!\"#$%&'()*+,-./:;<=>?@[\\]^_`{|}~\n"
     ]
    }
   ],
   "source": [
    "# The 'string' module (standard library) has a useful list of punctuation\n",
    "print(string.punctuation)"
   ]
  },
  {
   "cell_type": "code",
   "execution_count": 24,
   "id": "c820f890",
   "metadata": {},
   "outputs": [],
   "source": [
    "# Drop all punction markers from the counts object\n",
    "for punc in string.punctuation:\n",
    "    if punc in counts:\n",
    "        counts.pop(punc)"
   ]
  },
  {
   "cell_type": "code",
   "execution_count": 25,
   "id": "9d46e1e6",
   "metadata": {},
   "outputs": [],
   "source": [
    "# Get the top 10 most frequent words\n",
    "top10 = counts.most_common(10)"
   ]
  },
  {
   "cell_type": "code",
   "execution_count": 26,
   "id": "63b4b65b",
   "metadata": {},
   "outputs": [],
   "source": [
    "# Extract the top words, and counts\n",
    "top10_words = [it[0] for it in top10]\n",
    "top10_counts = [it[1] for it in top10]"
   ]
  },
  {
   "cell_type": "code",
   "execution_count": 27,
   "id": "49092e65",
   "metadata": {},
   "outputs": [
    {
     "data": {
      "image/png": "[encoded data removed]",
      "text/plain": [
       "<Figure size 640x480 with 1 Axes>"
      ]
     },
     "metadata": {},
     "output_type": "display_data"
    }
   ],
   "source": [
    "# Plot a barplot of the most frequent words in the text\n",
    "plt.barh(top10_words, top10_counts)\n",
    "plt.title('Term Frequency');\n",
    "plt.xlabel('Frequency');"
   ]
  },
  {
   "cell_type": "code",
   "execution_count": 28,
   "id": "12779b12",
   "metadata": {},
   "outputs": [],
   "source": [
    "# Drop all stop words\n",
    "for stop in nltk.corpus.stopwords.words('english'):\n",
    "    if stop in counts:\n",
    "        counts.pop(stop)"
   ]
  },
  {
   "cell_type": "code",
   "execution_count": 29,
   "id": "5dcba71e",
   "metadata": {},
   "outputs": [],
   "source": [
    "# Get the top 20 most frequent words, of the stopword-removed data\n",
    "top20 = counts.most_common(20)"
   ]
  },
  {
   "cell_type": "code",
   "execution_count": 30,
   "id": "9846ef4e",
   "metadata": {},
   "outputs": [
    {
     "data": {
      "image/png": "[encoded data removed]",
      "text/plain": [
       "<Figure size 640x480 with 1 Axes>"
      ]
     },
     "metadata": {},
     "output_type": "display_data"
    }
   ],
   "source": [
    "# Plot a barplot of the most frequent words in the text\n",
    "plt.barh([it[0] for it in top20], [it[1] for it in top20])\n",
    "plt.title('Term Frequency');\n",
    "plt.xlabel('Frequency');"
   ]
  },
  {
   "cell_type": "code",
   "execution_count": 31,
   "id": "daeef68e",
   "metadata": {},
   "outputs": [],
   "source": [
    "# Initialize a TFIDF object, applying some settings\n",
    "tfidf = TfidfVectorizer(analyzer='word',\n",
    "                        sublinear_tf=True,\n",
    "                        max_features=5000,\n",
    "                        tokenizer=nltk.word_tokenize)"
   ]
  },
  {
   "cell_type": "code",
   "execution_count": 32,
   "id": "7a21f05d",
   "metadata": {},
   "outputs": [
    {
     "name": "stderr",
     "output_type": "stream",
     "text": [
      "C:\\Users\\HP\\anaconda3\\lib\\site-packages\\sklearn\\feature_extraction\\text.py:525: UserWarning: The parameter 'token_pattern' will not be used since 'tokenizer' is not None'\n",
      "  warnings.warn(\n"
     ]
    }
   ],
   "source": [
    "# Learn the TFIDF representation of our data\n",
    "#   Note that this takes the raw sentences, tokenizes them, and learns the TF/IDF representation\n",
    "tdidf = tfidf.fit(sents)"
   ]
  },
  {
   "cell_type": "code",
   "execution_count": 33,
   "id": "d2c013fa",
   "metadata": {},
   "outputs": [],
   "source": [
    "# Get the IDF weights for the top 10 most common words\n",
    "IDF_weights = [tfidf.idf_[tfidf.vocabulary_[token]] for token in top10_words]"
   ]
  },
  {
   "cell_type": "code",
   "execution_count": 34,
   "id": "7b6e201d",
   "metadata": {},
   "outputs": [
    {
     "data": {
      "image/png": "[encoded data removed]",
      "text/plain": [
       "<Figure size 640x480 with 1 Axes>"
      ]
     },
     "metadata": {},
     "output_type": "display_data"
    }
   ],
   "source": [
    "# Plot the IDF scores for the very common words\n",
    "plt.barh(top10_words, IDF_weights)\n",
    "plt.title('Inverse Document Frequency');\n",
    "plt.xlabel('IDF Score');"
   ]
  },
  {
   "cell_type": "code",
   "execution_count": 35,
   "id": "ce19df93",
   "metadata": {},
   "outputs": [],
   "source": [
    "# Get the terms with the highest IDF score\n",
    "inds = np.argsort(tfidf.idf_)[::-1][:10]\n",
    "top_IDF_tokens = [list(tfidf.vocabulary_)[ind] for ind in inds]\n",
    "top_IDF_scores = tfidf.idf_[inds]"
   ]
  },
  {
   "cell_type": "code",
   "execution_count": 36,
   "id": "8a6f5a1a",
   "metadata": {},
   "outputs": [
    {
     "data": {
      "image/png": "[encoded data removed]",
      "text/plain": [
       "<Figure size 640x480 with 1 Axes>"
      ]
     },
     "metadata": {},
     "output_type": "display_data"
    }
   ],
   "source": [
    "# Plot the terms with the highest IDF score\n",
    "plt.barh(top_IDF_tokens, top_IDF_scores)\n",
    "plt.title('Inverse Document Frequency');\n",
    "plt.xlabel('IDF Score');"
   ]
  },
  {
   "cell_type": "code",
   "execution_count": 37,
   "id": "01b8dcd2",
   "metadata": {},
   "outputs": [],
   "source": [
    "# Apply TF/IDF representation to our data\n",
    "tfidf_books = tdidf.transform(sents).toarray()"
   ]
  },
  {
   "cell_type": "code",
   "execution_count": 38,
   "id": "eb7f013a",
   "metadata": {},
   "outputs": [
    {
     "name": "stdout",
     "output_type": "stream",
     "text": [
      "Number of documents: \t\t 10000\n",
      "Number of terms: \t\t 5000\n",
      "TFIDF representation shape: \t (10000, 5000)\n"
     ]
    }
   ],
   "source": [
    "print(\"Number of documents: \\t\\t\", len(sents))\n",
    "print(\"Number of terms: \\t\\t\", len(tfidf.vocabulary_))\n",
    "print(\"TFIDF representation shape: \\t\", tfidf_books.shape)"
   ]
  },
  {
   "cell_type": "code",
   "execution_count": null,
   "id": "600b9748",
   "metadata": {},
   "outputs": [],
   "source": []
  }
 ],
 "metadata": {
  "kernelspec": {
   "display_name": "Python 3 (ipykernel)",
   "language": "python",
   "name": "python3"
  },
  "language_info": {
   "codemirror_mode": {
    "name": "ipython",
    "version": 3
   },
   "file_extension": ".py",
   "mimetype": "text/x-python",
   "name": "python",
   "nbconvert_exporter": "python",
   "pygments_lexer": "ipython3",
   "version": "3.9.17"
  }
 },
 "nbformat": 4,
 "nbformat_minor": 5
}
